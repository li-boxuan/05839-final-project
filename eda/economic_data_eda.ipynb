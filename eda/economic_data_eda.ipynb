{
 "cells": [
  {
   "cell_type": "code",
   "execution_count": 39,
   "id": "ba551083",
   "metadata": {},
   "outputs": [],
   "source": [
    "import numpy as np\n",
    "import pandas as pd\n",
    "import matplotlib.pyplot as plt\n",
    "import seaborn as sns"
   ]
  },
  {
   "cell_type": "code",
   "execution_count": 2,
   "id": "d9df8f36",
   "metadata": {},
   "outputs": [
    {
     "name": "stderr",
     "output_type": "stream",
     "text": [
      "C:\\Users\\fansh\\Anaconda3\\lib\\site-packages\\IPython\\core\\interactiveshell.py:3165: DtypeWarning: Columns (2,8,9,10,11,12,13,14,15,16,17,18,19,20,21,22,23,24,25,26,27,28,29,30,31,32,33,34,35,36,37,38,39,40,41,42,43,44,45,46,47,48,49,50,51,52,53,54,55,56,57,58) have mixed types.Specify dtype option on import or set low_memory=False.\n",
      "  has_raised = await self.run_ast_nodes(code_ast.body, cell_name,\n"
     ]
    }
   ],
   "source": [
    "raw_data = pd.read_csv(\"../datasets/economic_profile_raw.csv\")\n",
    "raw_data = raw_data.dropna(how=\"all\")"
   ]
  },
  {
   "cell_type": "markdown",
   "id": "6ffc72e1",
   "metadata": {},
   "source": [
    "Extract data entries for 2019 data. Clean out useless rows, transfer GeoFIPS to standard string"
   ]
  },
  {
   "cell_type": "code",
   "execution_count": 48,
   "id": "e5e60424",
   "metadata": {},
   "outputs": [
    {
     "data": {
      "text/html": [
       "<div>\n",
       "<style scoped>\n",
       "    .dataframe tbody tr th:only-of-type {\n",
       "        vertical-align: middle;\n",
       "    }\n",
       "\n",
       "    .dataframe tbody tr th {\n",
       "        vertical-align: top;\n",
       "    }\n",
       "\n",
       "    .dataframe thead th {\n",
       "        text-align: right;\n",
       "    }\n",
       "</style>\n",
       "<table border=\"1\" class=\"dataframe\">\n",
       "  <thead>\n",
       "    <tr style=\"text-align: right;\">\n",
       "      <th></th>\n",
       "      <th>GeoFIPS</th>\n",
       "      <th>GeoName</th>\n",
       "      <th>Description</th>\n",
       "      <th>Unit</th>\n",
       "      <th>2018</th>\n",
       "    </tr>\n",
       "  </thead>\n",
       "  <tbody>\n",
       "    <tr>\n",
       "      <th>0</th>\n",
       "      <td>00000</td>\n",
       "      <td>United States</td>\n",
       "      <td>Personal income (thousands of dollars)</td>\n",
       "      <td>Thousands of dollars</td>\n",
       "      <td>17839255000</td>\n",
       "    </tr>\n",
       "    <tr>\n",
       "      <th>1</th>\n",
       "      <td>00000</td>\n",
       "      <td>United States</td>\n",
       "      <td>Net earnings by place of residence</td>\n",
       "      <td>Thousands of dollars</td>\n",
       "      <td>11167886000</td>\n",
       "    </tr>\n",
       "    <tr>\n",
       "      <th>2</th>\n",
       "      <td>00000</td>\n",
       "      <td>United States</td>\n",
       "      <td>Personal current transfer receipts</td>\n",
       "      <td>Thousands of dollars</td>\n",
       "      <td>2970254000</td>\n",
       "    </tr>\n",
       "    <tr>\n",
       "      <th>3</th>\n",
       "      <td>00000</td>\n",
       "      <td>United States</td>\n",
       "      <td>Income maintenance benefits 1/</td>\n",
       "      <td>Thousands of dollars</td>\n",
       "      <td>260380000</td>\n",
       "    </tr>\n",
       "    <tr>\n",
       "      <th>4</th>\n",
       "      <td>00000</td>\n",
       "      <td>United States</td>\n",
       "      <td>Unemployment insurance compensation</td>\n",
       "      <td>Thousands of dollars</td>\n",
       "      <td>28302000</td>\n",
       "    </tr>\n",
       "  </tbody>\n",
       "</table>\n",
       "</div>"
      ],
      "text/plain": [
       "  GeoFIPS        GeoName                             Description  \\\n",
       "0   00000  United States  Personal income (thousands of dollars)   \n",
       "1   00000  United States      Net earnings by place of residence   \n",
       "2   00000  United States      Personal current transfer receipts   \n",
       "3   00000  United States          Income maintenance benefits 1/   \n",
       "4   00000  United States     Unemployment insurance compensation   \n",
       "\n",
       "                   Unit         2018  \n",
       "0  Thousands of dollars  17839255000  \n",
       "1  Thousands of dollars  11167886000  \n",
       "2  Thousands of dollars   2970254000  \n",
       "3  Thousands of dollars    260380000  \n",
       "4  Thousands of dollars     28302000  "
      ]
     },
     "execution_count": 48,
     "metadata": {},
     "output_type": "execute_result"
    }
   ],
   "source": [
    "df_data = raw_data[[\"GeoFIPS\", \"GeoName\", \"Description\", \"Unit\", \"2018\"]]\n",
    "df_data = df_data[df_data[\"GeoFIPS\"].str.len() == 8]\n",
    "df_data[\"GeoFIPS\"] = df_data[\"GeoFIPS\"].apply(lambda x: x[2:-1])\n",
    "df_data.head()"
   ]
  },
  {
   "cell_type": "markdown",
   "id": "8c5f1349",
   "metadata": {},
   "source": [
    "Split the whole data set into country level, state level and county level dataframes"
   ]
  },
  {
   "cell_type": "code",
   "execution_count": 49,
   "id": "40ac25f3",
   "metadata": {},
   "outputs": [],
   "source": [
    "df_country = df_data[df_data[\"GeoFIPS\"] == \"00000\"]\n",
    "df_state = df_data[(df_data[\"GeoFIPS\"] != \"00000\") & (df_data[\"GeoFIPS\"].str.endswith(\"000\"))]\n",
    "df_county = df_data[~df_data[\"GeoFIPS\"].str.endswith(\"000\")]"
   ]
  },
  {
   "cell_type": "code",
   "execution_count": 50,
   "id": "58c72248",
   "metadata": {
    "scrolled": true
   },
   "outputs": [
    {
     "data": {
      "text/plain": [
       "array(['Personal income (thousands of dollars)',\n",
       "       ' Net earnings by place of residence',\n",
       "       ' Personal current transfer receipts',\n",
       "       '  Income maintenance benefits 1/',\n",
       "       '  Unemployment insurance compensation', '  Retirement and other',\n",
       "       ' Dividends, interest, and rent 2/', ' Population (persons) 3/',\n",
       "       ' Per capita personal income 4/', ' Per capita net earnings 4/',\n",
       "       ' Per capita personal current transfer receipts 4/',\n",
       "       '  Per capita income maintenance benefits 4/',\n",
       "       '  Per capita unemployment insurance compensation 4/',\n",
       "       '  Per capita retirement and other 4/',\n",
       "       ' Per capita dividends, interest, and rent 4/',\n",
       "       ' Earnings by place of work', '  Wages and salaries',\n",
       "       '  Supplements to wages and salaries',\n",
       "       '   Employer contributions for employee pension and insurance funds 5/',\n",
       "       '   Employer contributions for government social insurance',\n",
       "       \"  Proprietors' income\", \"   Farm proprietors' income\",\n",
       "       \"   Nonfarm proprietors' income\",\n",
       "       'Total employment (number of jobs)', ' Wage and salary employment',\n",
       "       ' Proprietors employment', '  Farm proprietors employment 6/',\n",
       "       '  Nonfarm proprietors employment',\n",
       "       'Average earnings per job (dollars)',\n",
       "       ' Average wages and salaries',\n",
       "       \" Average nonfarm proprietors' income\"], dtype=object)"
      ]
     },
     "execution_count": 50,
     "metadata": {},
     "output_type": "execute_result"
    }
   ],
   "source": [
    "df_country[\"Description\"].unique()"
   ]
  },
  {
   "cell_type": "code",
   "execution_count": 57,
   "id": "19a228cc",
   "metadata": {},
   "outputs": [],
   "source": [
    "def extract_feature(full_df, feature_name):\n",
    "    df = full_df[(full_df[\"Description\"] == feature_name) & (full_df[\"2018\"] != '(NA)')]\n",
    "    df = df[[\"GeoFIPS\", \"GeoName\", \"Unit\", \"2018\"]]\n",
    "    df[\"2018\"] = df[\"2018\"].astype(int)\n",
    "    return df"
   ]
  },
  {
   "cell_type": "code",
   "execution_count": 58,
   "id": "ec930367",
   "metadata": {},
   "outputs": [],
   "source": [
    "county_income_df = extract_feature(df_county, \" Per capita personal income 4/\")\n",
    "county_employments_df = extract_feature(df_county, \"Total employment (number of jobs)\")\n",
    "county_salary_df = extract_feature(df_county, \" Average wages and salaries\")"
   ]
  },
  {
   "cell_type": "code",
   "execution_count": 63,
   "id": "0678755e",
   "metadata": {},
   "outputs": [],
   "source": [
    "def plot_tops(df, name):\n",
    "    top_entries = df.sort_values(by=\"2018\", ascending = False).head(10)\n",
    "    plt.figure(figsize=(12,4))\n",
    "    sns.barplot(data = top_entries, y = \"GeoName\", x = \"2018\", orient = 'h').set(\n",
    "        xlabel = df.iloc[0][\"Unit\"],\n",
    "        ylabel = \"County\",\n",
    "        title = \"Top 10 counties with {}\".format(name)\n",
    ")"
   ]
  },
  {
   "cell_type": "code",
   "execution_count": 64,
   "id": "f58f13f6",
   "metadata": {},
   "outputs": [
    {
     "data": {
      "image/png": "[encoded data removed]",
      "text/plain": [
       "<Figure size 864x288 with 1 Axes>"
      ]
     },
     "metadata": {
      "needs_background": "light"
     },
     "output_type": "display_data"
    }
   ],
   "source": [
    "plot_tops(county_income_df, \"income\")"
   ]
  },
  {
   "cell_type": "code",
   "execution_count": 65,
   "id": "f9c55356",
   "metadata": {},
   "outputs": [
    {
     "data": {
      "image/png": "[encoded data removed]",
      "text/plain": [
       "<Figure size 864x288 with 1 Axes>"
      ]
     },
     "metadata": {
      "needs_background": "light"
     },
     "output_type": "display_data"
    }
   ],
   "source": [
    "plot_tops(county_employments_df, \"Number of Jobs\")"
   ]
  },
  {
   "cell_type": "code",
   "execution_count": 66,
   "id": "887df00b",
   "metadata": {},
   "outputs": [
    {
     "data": {
      "image/png": "[encoded data removed]",
      "text/plain": [
       "<Figure size 864x288 with 1 Axes>"
      ]
     },
     "metadata": {
      "needs_background": "light"
     },
     "output_type": "display_data"
    }
   ],
   "source": [
    "plot_tops(county_salary_df, \"Income from salary\")"
   ]
  },
  {
   "cell_type": "code",
   "execution_count": null,
   "id": "34b500f1",
   "metadata": {},
   "outputs": [],
   "source": []
  }
 ],
 "metadata": {
  "kernelspec": {
   "display_name": "Python 3",
   "language": "python",
   "name": "python3"
  },
  "language_info": {
   "codemirror_mode": {
    "name": "ipython",
    "version": 3
   },
   "file_extension": ".py",
   "mimetype": "text/x-python",
   "name": "python",
   "nbconvert_exporter": "python",
   "pygments_lexer": "ipython3",
   "version": "3.8.8"
  }
 },
 "nbformat": 4,
 "nbformat_minor": 5
}
